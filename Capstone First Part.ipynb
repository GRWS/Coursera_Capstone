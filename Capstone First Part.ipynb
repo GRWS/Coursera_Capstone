{
 "cells": [
  {
   "cell_type": "markdown",
   "metadata": {},
   "source": [
    "# **After Job Offer, Choosing a Neighborhood in New York City**"
   ]
  },
  {
   "cell_type": "markdown",
   "metadata": {},
   "source": [
    "## **Capstone Project (Week 1)**\n",
    "\n"
   ]
  },
  {
   "cell_type": "markdown",
   "metadata": {},
   "source": [
    "\n",
    "## Table of Contents\n",
    "1. [Introduction: Business Problem](#introduction)\n",
    "\n",
    "2. [Data](#Data)"
   ]
  },
  {
   "cell_type": "markdown",
   "metadata": {},
   "source": [
    "## 1. Introduction: Business Problem <a name=\"introduction\"></a>"
   ]
  },
  {
   "cell_type": "markdown",
   "metadata": {},
   "source": [
    "Moving to a different city comes with a number of challenges, and one of the biggest ones is to find the right place to live.  The choice of which neighborhood to live, within the new city, comes with a number of important questions. A few of the ones that come to mind are: \n",
    "* How much it will housing cost? \n",
    "* How much time the daily commute will take? \n",
    "* What kind of venues are near it?.  \n",
    "\n",
    "Regarding such questions, this project aims to answer them, at a general level, given two specific premises. First, having found a new job in the financial district, located in lower Manhattan, and second, planning to live within one of the five New York City boroughs.\n",
    "Based upon the assumptions given, this project compares average rent prices for different neighborhoods in Manhattan, Queens,  Brooklyn, the Bronx and Staten Island, the times that it takes to commute from them during rush hour, along with the most popular venues in them."
   ]
  },
  {
   "cell_type": "markdown",
   "metadata": {},
   "source": [
    "## 2. Data <a name=\"Data\"></a>"
   ]
  },
  {
   "cell_type": "markdown",
   "metadata": {},
   "source": [
    "To complete this project, it was necessary to gather data regarding rent, commuting times, and most popular venues for each of the neighborhoods in question.  While some of the data was readily available, the commuting times were collected individually from each neighborhood using google maps.  The data sources are listed below.\n",
    "\n",
    "* Average rental data per neighborhood is available at:\n",
    "https://streeteasy.com/blog/data-dashboard/\n",
    "\n",
    "* The latitude and longitude for the neighborhoods across all five boroughs is available in different file formats, i.e. Derived Shapefile, KMZ and GeoJSON from:\n",
    "https://geo.nyu.edu/catalog/nyu_2451_34572\n",
    "\n",
    "* The commute times were collected from Google Maps:\n",
    "https://www.google.com/maps/\n",
    "\n",
    "* Lastly, the Foursquare API was used to find information about the venues location and their popularity among Foursquare users:\n",
    "https://developer.foursquare.com/docs/api/venues/explore"
   ]
  }
 ],
 "metadata": {
  "kernelspec": {
   "display_name": "Python 3",
   "language": "python",
   "name": "python3"
  },
  "language_info": {
   "codemirror_mode": {
    "name": "ipython",
    "version": 3
   },
   "file_extension": ".py",
   "mimetype": "text/x-python",
   "name": "python",
   "nbconvert_exporter": "python",
   "pygments_lexer": "ipython3",
   "version": "3.7.1"
  }
 },
 "nbformat": 4,
 "nbformat_minor": 2
}
